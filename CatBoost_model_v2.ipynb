{
 "cells": [
  {
   "cell_type": "code",
   "execution_count": 1,
   "metadata": {
    "collapsed": true
   },
   "outputs": [],
   "source": [
    "from datetime import date, timedelta\n",
    "\n",
    "import pandas as pd\n",
    "import numpy as np\n",
    "from sklearn.metrics import mean_squared_error\n",
    "from catboost import CatBoostRegressor"
   ]
  },
  {
   "cell_type": "code",
   "execution_count": 2,
   "metadata": {
    "collapsed": true
   },
   "outputs": [],
   "source": [
    "df_train = pd.read_csv(\n",
    "    'inputs/train.csv', usecols=[1, 2, 3, 4, 5],\n",
    "    dtype={'onpromotion': bool},\n",
    "    converters={'unit_sales': lambda u: np.log1p(\n",
    "        float(u)) if float(u) > 0 else 0},\n",
    "    parse_dates=[\"date\"],\n",
    "    skiprows=range(1, 66458909)  # 2016-01-01\n",
    ")\n",
    "\n",
    "df_test = pd.read_csv(\n",
    "    \"inputs/test.csv\", usecols=[0, 1, 2, 3, 4],\n",
    "    dtype={'onpromotion': bool},\n",
    "    parse_dates=[\"date\"]  # , date_parser=parser\n",
    ").set_index(\n",
    "    ['store_nbr', 'item_nbr', 'date']\n",
    ")\n",
    "\n",
    "items = pd.read_csv(\n",
    "    \"inputs/items.csv\",\n",
    ").set_index(\"item_nbr\")\n",
    "\n",
    "df_2017 = df_train.loc[df_train.date>=pd.datetime(2017,1,1)]\n",
    "del df_train\n",
    "\n",
    "promo_2017_train = df_2017.set_index(\n",
    "    [\"store_nbr\", \"item_nbr\", \"date\"])[[\"onpromotion\"]].unstack(\n",
    "        level=-1).fillna(False)\n",
    "promo_2017_train.columns = promo_2017_train.columns.get_level_values(1)\n",
    "promo_2017_test = df_test[[\"onpromotion\"]].unstack(level=-1).fillna(False)\n",
    "promo_2017_test.columns = promo_2017_test.columns.get_level_values(1)\n",
    "promo_2017_test = promo_2017_test.reindex(promo_2017_train.index).fillna(False)\n",
    "promo_2017 = pd.concat([promo_2017_train, promo_2017_test], axis=1)\n",
    "del promo_2017_test, promo_2017_train\n",
    "\n",
    "df_2017 = df_2017.set_index(\n",
    "    [\"store_nbr\", \"item_nbr\", \"date\"])[[\"unit_sales\"]].unstack(\n",
    "        level=-1).fillna(0)\n",
    "df_2017.columns = df_2017.columns.get_level_values(1)\n",
    "\n",
    "items = items.reindex(df_2017.index.get_level_values(1))"
   ]
  },
  {
   "cell_type": "code",
   "execution_count": 3,
   "metadata": {
    "collapsed": true
   },
   "outputs": [],
   "source": [
    "df_stores = pd.read_csv('inputs/stores.csv')\n",
    "### categorical features\n",
    "store_nbr_list = []\n",
    "for i in df_2017.index.values[:].tolist():\n",
    "    store_nbr_list.append(i[0])\n",
    "\n",
    "store_nbr_df = pd.DataFrame(store_nbr_list, columns = ['store_nbr'])\n",
    "cat_vars = store_nbr_df.merge(df_stores, how='left', left_on='store_nbr', right_on = 'store_nbr'\n",
    "                            )[['store_nbr', 'type', 'city', 'state', 'cluster']] \n",
    "\n",
    "cleanup_type = {\"type\": {\"A\": 1, \"B\": 2, \"C\": 3, \"D\": 4, \"E\":5},\n",
    "               \"city\": {\"Quito\": 1, \"Guayaquil\": 2, \"Cuenca\": 3, \"Santo Domingo\": 4, \"Manta\": 5, \"Ambato\": 6,\n",
    "                       \"Machala\": 7, \"Latacunga\": 8, \"Daule\": 9, \"Loja\": 10, \"Salinas\": 11, \"Esmeraldas\": 12, \n",
    "                       \"Cayambe\": 13, \"Libertad\": 14, \"Babahoyo\": 15, \"Puyo\": 16, \"Ibarra\": 17, \"Quevedo\": 18,\n",
    "                       \"Guaranda\": 19, \"Playas\": 20, \"Riobamba\": 21, \"El Carmen\": 22},\n",
    "               \"state\": {\"Pichincha\": 1, \"Guayas\": 2, \"Azuay\": 3, \"Manabi\": 4, \"Santo Domingo de los Tsachilas\": 5,\n",
    "                        \"Tungurahua\": 6, \"El Oro\": 7, \"Los Rios\": 8, \"Cotopaxi\": 9, \"Loja\": 10, \"Santa Elena\": 11,\n",
    "                        \"Esmeraldas\": 12, \"Pastaza\": 13, \"Imbabura\": 14, \"Bolivar\": 15, \"Chimborazo\": 16}}\n",
    "cat_vars.replace(cleanup_type, inplace=True)\n",
    "\n"
   ]
  },
  {
   "cell_type": "code",
   "execution_count": 4,
   "metadata": {
    "collapsed": true
   },
   "outputs": [],
   "source": [
    "def get_timespan(df, dt, minus, periods, freq='D'):\n",
    "    return df[pd.date_range(dt - timedelta(days=minus), periods=periods, freq=freq)]\n",
    "\n",
    "def prepare_dataset(t2017, is_train=True):\n",
    "    ### original feature list \n",
    "    X = pd.DataFrame({\n",
    "        \"mean_1_2017\": get_timespan(df_2017, t2017, 1, 1).values.ravel(),\n",
    "        \"mean_3_2017\": get_timespan(df_2017, t2017, 3, 3).mean(axis=1).values,\n",
    "        \"mean_7_2017\": get_timespan(df_2017, t2017, 7, 7).mean(axis=1).values,\n",
    "        \"mean_14_2017\": get_timespan(df_2017, t2017, 14, 14).mean(axis=1).values,\n",
    "        \"mean_30_2017\": get_timespan(df_2017, t2017, 30, 30).mean(axis=1).values,\n",
    "        \"mean_60_2017\": get_timespan(df_2017, t2017, 60, 60).mean(axis=1).values,\n",
    "        \"mean_140_2017\": get_timespan(df_2017, t2017, 140, 140).mean(axis=1).values,\n",
    "        \"std_7_2017\": get_timespan(df_2017, t2017, 7, 7).std(axis=1).values,\n",
    "        \"std_14_2017\": get_timespan(df_2017, t2017, 14, 14).std(axis=1).values,\n",
    "        \"std_30_2017\": get_timespan(df_2017, t2017, 30, 30).std(axis=1).values,\n",
    "        \"std_60_2017\": get_timespan(df_2017, t2017, 60, 60).std(axis=1).values,\n",
    "        \"std_140_2017\": get_timespan(df_2017, t2017, 140, 140).std(axis=1).values,    \n",
    "        #\"median_7_2017\": get_timespan(df_2017, t2017, 7, 7).median(axis=1).values,\n",
    "        #\"median_14_2017\": get_timespan(df_2017, t2017, 14, 14).median(axis=1).values,\n",
    "        #\"median_30_2017\": get_timespan(df_2017, t2017, 30, 30).median(axis=1).values,\n",
    "        #\"median_60_2017\": get_timespan(df_2017, t2017, 60, 60).median(axis=1).values,\n",
    "        #\"median_140_2017\": get_timespan(df_2017, t2017, 140, 140).median(axis=1).values,   \n",
    "        \"sem_7_2017\": get_timespan(df_2017, t2017, 7, 7).sem(axis=1).values,\n",
    "        \"sem_14_2017\": get_timespan(df_2017, t2017, 14, 14).sem(axis=1).values,\n",
    "        \"sem_30_2017\": get_timespan(df_2017, t2017, 30, 30).sem(axis=1).values,\n",
    "        \"sem_60_2017\": get_timespan(df_2017, t2017, 60, 60).sem(axis=1).values,\n",
    "        \"sem_140_2017\": get_timespan(df_2017, t2017, 140, 140).sem(axis=1).values,   \n",
    "        \"mad_7_2017\": get_timespan(df_2017, t2017, 7, 7).mad(axis=1).values,\n",
    "        \"mad_14_2017\": get_timespan(df_2017, t2017, 14, 14).mad(axis=1).values,\n",
    "        \"mad_30_2017\": get_timespan(df_2017, t2017, 30, 30).mad(axis=1).values,\n",
    "        \"mad_60_2017\": get_timespan(df_2017, t2017, 60, 60).mad(axis=1).values,\n",
    "        \"mad_140_2017\": get_timespan(df_2017, t2017, 140, 140).mad(axis=1).values,   \n",
    "        \"skew_7_2017\": get_timespan(df_2017, t2017, 7, 7).skew(axis=1).values,\n",
    "        \"skew_14_2017\": get_timespan(df_2017, t2017, 14, 14).skew(axis=1).values,\n",
    "        \"skew_30_2017\": get_timespan(df_2017, t2017, 30, 30).skew(axis=1).values,\n",
    "        \"skew_60_2017\": get_timespan(df_2017, t2017, 60, 60).skew(axis=1).values,\n",
    "        \"skew_140_2017\": get_timespan(df_2017, t2017, 140, 140).skew(axis=1).values,  \n",
    "        \"kurt_7_2017\": get_timespan(df_2017, t2017, 7, 7).kurt(axis=1).values,\n",
    "        \"kurt_14_2017\": get_timespan(df_2017, t2017, 14, 14).kurt(axis=1).values,\n",
    "        \"kurt_30_2017\": get_timespan(df_2017, t2017, 30, 30).kurt(axis=1).values,\n",
    "        \"kurt_60_2017\": get_timespan(df_2017, t2017, 60, 60).kurt(axis=1).values,\n",
    "        \"kurt_140_2017\": get_timespan(df_2017, t2017, 140, 140).kurt(axis=1).values,     \n",
    "        \"promo_14_2017\": np.log1p(get_timespan(promo_2017, t2017, 14, 14).sum(axis=1).values),\n",
    "        \"promo_60_2017\": np.log1p(get_timespan(promo_2017, t2017, 60, 60).sum(axis=1).values),\n",
    "        \"promo_140_2017\": np.log1p(get_timespan(promo_2017, t2017, 140, 140).sum(axis=1).values),\n",
    "        \"unpromo_16aftsum_2017\":np.log1p((1-get_timespan(promo_2017, t2017+timedelta(16), 16, 16))\n",
    "                                         .iloc[:,1:].sum(axis=1).values),\n",
    "    })\n",
    "    \n",
    "    for i in range(7):\n",
    "        X['mean_4_dow{}_2017'.format(i)] = get_timespan(df_2017, t2017, 28-i, 4, freq='7D').mean(axis=1).values\n",
    "        X['mean_20_dow{}_2017'.format(i)] = get_timespan(df_2017, t2017, 140-i, 20, freq='7D').mean(axis=1).values\n",
    "        X['std_4_dow{}_2017'.format(i)] = get_timespan(df_2017, t2017, 28-i, 4, freq='7D').std(axis=1).values\n",
    "        X['std_20_dow{}_2017'.format(i)] = get_timespan(df_2017, t2017, 140-i, 20, freq='7D').std(axis=1).values\n",
    "        #X['median_4_dow{}_2017'.format(i)] = get_timespan(df_2017, t2017, 28-i, 4, freq='7D').median(axis=1).values\n",
    "        #X['median_20_dow{}_2017'.format(i)] = get_timespan(df_2017, t2017, 140-i, 20, freq='7D').median(axis=1).values\n",
    "        X['sem_4_dow{}_2017'.format(i)] = get_timespan(df_2017, t2017, 28-i, 4, freq='7D').sem(axis=1).values\n",
    "        X['sem_20_dow{}_2017'.format(i)] = get_timespan(df_2017, t2017, 140-i, 20, freq='7D').sem(axis=1).values\n",
    "        X['mad_4_dow{}_2017'.format(i)] = get_timespan(df_2017, t2017, 28-i, 4, freq='7D').mad(axis=1).values\n",
    "        X['mad_20_dow{}_2017'.format(i)] = get_timespan(df_2017, t2017, 140-i, 20, freq='7D').mad(axis=1).values\n",
    "        X['skew_4_dow{}_2017'.format(i)] = get_timespan(df_2017, t2017, 28-i, 4, freq='7D').skew(axis=1).values\n",
    "        X['skew_20_dow{}_2017'.format(i)] = get_timespan(df_2017, t2017, 140-i, 20, freq='7D').skew(axis=1).values\n",
    "        X['kurt_4_dow{}_2017'.format(i)] = get_timespan(df_2017, t2017, 28-i, 4, freq='7D').kurt(axis=1).values\n",
    "        X['kurt_20_dow{}_2017'.format(i)] = get_timespan(df_2017, t2017, 140-i, 20, freq='7D').kurt(axis=1).values\n",
    "    \n",
    "    for i in range(16):\n",
    "        X[\"promo_{}\".format(i)] = promo_2017[\n",
    "            t2017 + timedelta(days=i)].values.astype(np.uint8)\n",
    "        for j in [14,60,140]:\n",
    "            X[\"aft_promo_{}{}\".format(i,j)] = (promo_2017[\n",
    "                t2017 + timedelta(days=i)]-1).values.astype(np.uint8)\n",
    "            X[\"aft_promo_{}{}\".format(i,j)] = np.log1p(X[\"aft_promo_{}{}\".format(i,j)]*X['promo_{}_2017'.format(j)])\n",
    "        if i == 15:\n",
    "            X[\"bf_unpromo_{}\".format(i)]=0\n",
    "        else:\n",
    "            X[\"bf_unpromo_{}\".format(i)] = (1-get_timespan(\n",
    "                    promo_2017, t2017+timedelta(16), 16-i, 16-i)\n",
    "                                           ).iloc[:,1:].sum(axis=1).values / (15-i) * X['promo_{}'.format(i)]\n",
    "    \n",
    "    ## calculate row metrics vars \n",
    "    X = pd.concat([X, np.log1p((X == 0).sum(axis=1))], axis=1)  \n",
    "    X.rename(columns={0: 'num_zeros'}, inplace=True)\n",
    "    X_stat_vars = (X.transpose()).describe(percentiles = [.01, .05, .25, .5, .75, .95, .99]).transpose()\n",
    "    X = pd.concat([X, X_stat_vars.iloc[0:,1:]], axis=1)\n",
    "        \n",
    "    ## attach categorical vars\n",
    "    X = pd.concat([X, cat_vars], axis=1)\n",
    "    \n",
    "    if is_train:\n",
    "        y = df_2017[\n",
    "            pd.date_range(t2017, periods=16)\n",
    "        ].values\n",
    "        return X, y\n",
    "    return X\n"
   ]
  },
  {
   "cell_type": "code",
   "execution_count": 7,
   "metadata": {},
   "outputs": [
    {
     "data": {
      "text/plain": [
       "datetime.date(2017, 7, 26)"
      ]
     },
     "execution_count": 7,
     "metadata": {},
     "output_type": "execute_result"
    }
   ],
   "source": [
    "t2017 = date(2017, 5, 31)\n",
    "delta = timedelta(days=7 * 8)\n",
    "t2017 + delta"
   ]
  },
  {
   "cell_type": "code",
   "execution_count": 5,
   "metadata": {},
   "outputs": [
    {
     "name": "stdout",
     "output_type": "stream",
     "text": [
      "Preparing dataset...\n"
     ]
    }
   ],
   "source": [
    "print(\"Preparing dataset...\")\n",
    "t2017 = date(2017, 5, 31)\n",
    "X_l, y_l = [], []\n",
    "for i in range(5):\n",
    "    delta = timedelta(days=7 * i * 2)\n",
    "    X_tmp, y_tmp = prepare_dataset(\n",
    "        t2017 + delta\n",
    "    )\n",
    "    X_l.append(X_tmp)\n",
    "    y_l.append(y_tmp)\n",
    "X_train = pd.concat(X_l, axis=0)\n",
    "y_train = np.concatenate(y_l, axis=0)\n",
    "del X_l, y_l\n",
    "X_val, y_val = prepare_dataset(date(2017, 7, 26))\n",
    "X_test = prepare_dataset(date(2017, 8, 16), is_train=False)"
   ]
  },
  {
   "cell_type": "code",
   "execution_count": 6,
   "metadata": {},
   "outputs": [
    {
     "data": {
      "text/plain": [
       "(837575, 217)"
      ]
     },
     "execution_count": 6,
     "metadata": {},
     "output_type": "execute_result"
    }
   ],
   "source": [
    "#list(X_train)\n",
    "X_train.shape"
   ]
  },
  {
   "cell_type": "code",
   "execution_count": 6,
   "metadata": {},
   "outputs": [
    {
     "name": "stdout",
     "output_type": "stream",
     "text": [
      "Training and predicting models...\n",
      "==================================================\n",
      "Step 1\n",
      "==================================================\n",
      "==================================================\n",
      "Step 2\n",
      "==================================================\n",
      "==================================================\n",
      "Step 3\n",
      "==================================================\n",
      "==================================================\n",
      "Step 4\n",
      "==================================================\n",
      "==================================================\n",
      "Step 5\n",
      "==================================================\n",
      "==================================================\n",
      "Step 6\n",
      "==================================================\n",
      "==================================================\n",
      "Step 7\n",
      "==================================================\n",
      "==================================================\n",
      "Step 8\n",
      "==================================================\n",
      "==================================================\n",
      "Step 9\n",
      "==================================================\n",
      "==================================================\n",
      "Step 10\n",
      "==================================================\n",
      "==================================================\n",
      "Step 11\n",
      "==================================================\n",
      "==================================================\n",
      "Step 12\n",
      "==================================================\n",
      "==================================================\n",
      "Step 13\n",
      "==================================================\n",
      "==================================================\n",
      "Step 14\n",
      "==================================================\n",
      "==================================================\n",
      "Step 15\n",
      "==================================================\n",
      "==================================================\n",
      "Step 16\n",
      "==================================================\n",
      "Validation mse: 0.35276250964\n"
     ]
    }
   ],
   "source": [
    "print(\"Training and predicting models...\")\n",
    "\n",
    "\n",
    "#MAX_ROUNDS = 300\n",
    "val_pred = []\n",
    "test_pred = []\n",
    "cate_vars = []\n",
    "\n",
    "for i in range(16):\n",
    "    print(\"=\" * 50)\n",
    "    print(\"Step %d\" % (i+1))\n",
    "    print(\"=\" * 50)\n",
    "    model = CatBoostRegressor()\n",
    "        \n",
    "    model.fit(X_train, y_train[:, i])\n",
    "        #cat_features=cate_vars)\n",
    "    \n",
    "    val_pred.append(model.predict(X_val))\n",
    "    test_pred.append(model.predict(X_test))\n",
    "\n",
    "print(\"Validation mse:\", mean_squared_error(\n",
    "    y_val, np.array(val_pred).transpose()))"
   ]
  },
  {
   "cell_type": "code",
   "execution_count": 6,
   "metadata": {},
   "outputs": [
    {
     "name": "stdout",
     "output_type": "stream",
     "text": [
      "Training and predicting models...\n",
      "==================================================\n",
      "Step 1\n",
      "==================================================\n",
      "==================================================\n",
      "Step 2\n",
      "==================================================\n",
      "==================================================\n",
      "Step 3\n",
      "==================================================\n",
      "==================================================\n",
      "Step 4\n",
      "==================================================\n",
      "==================================================\n",
      "Step 5\n",
      "==================================================\n",
      "==================================================\n",
      "Step 6\n",
      "==================================================\n",
      "==================================================\n",
      "Step 7\n",
      "==================================================\n",
      "==================================================\n",
      "Step 8\n",
      "==================================================\n",
      "==================================================\n",
      "Step 9\n",
      "==================================================\n",
      "==================================================\n",
      "Step 10\n",
      "==================================================\n",
      "==================================================\n",
      "Step 11\n",
      "==================================================\n",
      "==================================================\n",
      "Step 12\n",
      "==================================================\n",
      "==================================================\n",
      "Step 13\n",
      "==================================================\n",
      "==================================================\n",
      "Step 14\n",
      "==================================================\n",
      "==================================================\n",
      "Step 15\n",
      "==================================================\n",
      "==================================================\n",
      "Step 16\n",
      "==================================================\n",
      "Validation mse: 0.337119836866\n"
     ]
    }
   ],
   "source": [
    "print(\"Training and predicting models...\")\n",
    "\n",
    "\n",
    "#MAX_ROUNDS = 1000\n",
    "val_pred = []\n",
    "test_pred = []\n",
    "cate_vars = []\n",
    "\n",
    "for i in range(16):\n",
    "    print(\"=\" * 50)\n",
    "    print(\"Step %d\" % (i+1))\n",
    "    print(\"=\" * 50)\n",
    "    model = CatBoostRegressor(iterations=1000, depth=10)\n",
    "        \n",
    "    model.fit(X_train, y_train[:, i])\n",
    "        #cat_features=cate_vars)\n",
    "    \n",
    "    val_pred.append(model.predict(X_val))\n",
    "    test_pred.append(model.predict(X_test))\n",
    "\n",
    "print(\"Validation mse:\", mean_squared_error(\n",
    "    y_val, np.array(val_pred).transpose()))"
   ]
  },
  {
   "cell_type": "code",
   "execution_count": 7,
   "metadata": {},
   "outputs": [
    {
     "name": "stdout",
     "output_type": "stream",
     "text": [
      "Making submission...\n"
     ]
    }
   ],
   "source": [
    "print(\"Making submission...\")\n",
    "y_test = np.array(test_pred).transpose()\n",
    "df_preds = pd.DataFrame(\n",
    "    y_test, index=df_2017.index,\n",
    "    columns=pd.date_range(\"2017-08-16\", periods=16)\n",
    ").stack().to_frame(\"unit_sales\")\n",
    "df_preds.index.set_names([\"store_nbr\", \"item_nbr\", \"date\"], inplace=True)\n",
    "\n",
    "submission = df_test[[\"id\"]].join(df_preds, how=\"left\").fillna(0)\n",
    "submission[\"unit_sales\"] = np.clip(np.expm1(submission[\"unit_sales\"]), 0, 1000)\n",
    "submission.to_csv('catboost_deep_pars.csv', float_format='%.6f', index=None)"
   ]
  },
  {
   "cell_type": "code",
   "execution_count": null,
   "metadata": {
    "collapsed": true
   },
   "outputs": [],
   "source": []
  }
 ],
 "metadata": {
  "kernelspec": {
   "display_name": "Python [default]",
   "language": "python",
   "name": "python3"
  },
  "language_info": {
   "codemirror_mode": {
    "name": "ipython",
    "version": 3
   },
   "file_extension": ".py",
   "mimetype": "text/x-python",
   "name": "python",
   "nbconvert_exporter": "python",
   "pygments_lexer": "ipython3",
   "version": "3.6.3"
  }
 },
 "nbformat": 4,
 "nbformat_minor": 2
}
